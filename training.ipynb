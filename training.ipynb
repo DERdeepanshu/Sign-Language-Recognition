{
 "cells": [
  {
   "cell_type": "code",
   "execution_count": 2,
   "id": "b585e6fe",
   "metadata": {},
   "outputs": [],
   "source": [
    "import tensorflow as tf\n",
    "from tensorflow.keras import Sequential\n",
    "from tensorflow.keras.layers import Dense, Dropout, Flatten\n",
    "from tensorflow.keras.layers import Conv2D, MaxPooling2D\n",
    "from tensorflow.keras.losses import categorical_crossentropy\n",
    "from tensorflow.keras.optimizers import Adam\n",
    "from tensorflow.keras.preprocessing.image import ImageDataGenerator\n",
    "import os"
   ]
  },
  {
   "cell_type": "code",
   "execution_count": 3,
   "id": "67ac5c86",
   "metadata": {},
   "outputs": [],
   "source": [
    "os.environ[\"CUDA_VISIBLE_DEVICES\"] = \"-1\"\n",
    "sz = 128\n",
    "train_step = 0\n",
    "for i in os.listdir(\"train/\"):\n",
    "    train_step += len(os.listdir(\"train/\"+i+\"/\"))\n",
    "test_step = 0\n",
    "for i in os.listdir(\"test/\"):\n",
    "    test_step += len(os.listdir(\"test/\"+i+\"/\"))"
   ]
  },
  {
   "cell_type": "code",
   "execution_count": 4,
   "id": "e8e717bf",
   "metadata": {},
   "outputs": [
    {
     "name": "stdout",
     "output_type": "stream",
     "text": [
      "Num GPUs Available:  1\n"
     ]
    }
   ],
   "source": [
    "import tensorflow as tf\n",
    "print(\"Num GPUs Available: \", len(tf.config.experimental.list_physical_devices('GPU')))"
   ]
  },
  {
   "cell_type": "code",
   "execution_count": 5,
   "id": "c941e4df",
   "metadata": {},
   "outputs": [],
   "source": [
    "model = Sequential()"
   ]
  },
  {
   "cell_type": "code",
   "execution_count": 6,
   "id": "d94cffdd",
   "metadata": {},
   "outputs": [],
   "source": [
    "model.add(Conv2D(32, (3,3), input_shape=(sz, sz, 1), activation='relu'))\n",
    "model.add(MaxPooling2D(pool_size=(2,2)))\n",
    "\n",
    "model.add(Conv2D(32, (3,3), activation='relu'))\n",
    "model.add(MaxPooling2D(pool_size=(2,2)))\n",
    "\n",
    "model.add(Flatten())\n",
    "\n",
    "model.add(Dense(128, activation='relu'))\n",
    "model.add(Dropout(0.40))\n",
    "model.add(Dense(96, activation='relu'))\n",
    "model.add(Dropout(0.40))\n",
    "model.add(Dense(64, activation='relu'))\n",
    "model.add(Dense(27, activation='softmax'))"
   ]
  },
  {
   "cell_type": "code",
   "execution_count": 7,
   "id": "21832735",
   "metadata": {},
   "outputs": [],
   "source": [
    "model.compile(optimizer=\"adam\", loss='categorical_crossentropy', metrics=['accuracy'])"
   ]
  },
  {
   "cell_type": "code",
   "execution_count": 8,
   "id": "ab5aa18b",
   "metadata": {},
   "outputs": [
    {
     "name": "stdout",
     "output_type": "stream",
     "text": [
      "Model: \"sequential\"\n",
      "_________________________________________________________________\n",
      "Layer (type)                 Output Shape              Param #   \n",
      "=================================================================\n",
      "conv2d (Conv2D)              (None, 126, 126, 32)      320       \n",
      "_________________________________________________________________\n",
      "max_pooling2d (MaxPooling2D) (None, 63, 63, 32)        0         \n",
      "_________________________________________________________________\n",
      "conv2d_1 (Conv2D)            (None, 61, 61, 32)        9248      \n",
      "_________________________________________________________________\n",
      "max_pooling2d_1 (MaxPooling2 (None, 30, 30, 32)        0         \n",
      "_________________________________________________________________\n",
      "flatten (Flatten)            (None, 28800)             0         \n",
      "_________________________________________________________________\n",
      "dense (Dense)                (None, 128)               3686528   \n",
      "_________________________________________________________________\n",
      "dropout (Dropout)            (None, 128)               0         \n",
      "_________________________________________________________________\n",
      "dense_1 (Dense)              (None, 96)                12384     \n",
      "_________________________________________________________________\n",
      "dropout_1 (Dropout)          (None, 96)                0         \n",
      "_________________________________________________________________\n",
      "dense_2 (Dense)              (None, 64)                6208      \n",
      "_________________________________________________________________\n",
      "dense_3 (Dense)              (None, 27)                1755      \n",
      "=================================================================\n",
      "Total params: 3,716,443\n",
      "Trainable params: 3,716,443\n",
      "Non-trainable params: 0\n",
      "_________________________________________________________________\n"
     ]
    }
   ],
   "source": [
    "model.summary()"
   ]
  },
  {
   "cell_type": "code",
   "execution_count": 9,
   "id": "8e8ed3b1",
   "metadata": {},
   "outputs": [
    {
     "name": "stdout",
     "output_type": "stream",
     "text": [
      "Found 12845 images belonging to 27 classes.\n",
      "Found 4268 images belonging to 27 classes.\n",
      "Epoch 1/5\n",
      "12845/12845 [==============================] - 863s 67ms/step - loss: 0.5190 - accuracy: 0.8372 - val_loss: 0.0059 - val_accuracy: 0.9991\n",
      "Epoch 2/5\n",
      "12845/12845 [==============================] - 774s 60ms/step - loss: 0.1169 - accuracy: 0.9643 - val_loss: 0.0033 - val_accuracy: 0.9993\n",
      "Epoch 3/5\n",
      "12845/12845 [==============================] - 776s 60ms/step - loss: 0.0792 - accuracy: 0.9766 - val_loss: 0.0018 - val_accuracy: 0.9998\n",
      "Epoch 4/5\n",
      "12845/12845 [==============================] - 795s 62ms/step - loss: 0.0630 - accuracy: 0.9819 - val_loss: 0.0062 - val_accuracy: 0.9986\n",
      "Epoch 5/5\n",
      "12845/12845 [==============================] - 789s 61ms/step - loss: 0.0535 - accuracy: 0.9848 - val_loss: 0.0044 - val_accuracy: 0.9995\n"
     ]
    },
    {
     "data": {
      "text/plain": [
       "<tensorflow.python.keras.callbacks.History at 0x1d2e71735f8>"
      ]
     },
     "execution_count": 9,
     "metadata": {},
     "output_type": "execute_result"
    }
   ],
   "source": [
    "train_data = ImageDataGenerator(rescale=1./255,\n",
    "                                shear_range=0.2,\n",
    "                                zoom_range=0.2,\n",
    "                                horizontal_flip=True)\n",
    "test_data = ImageDataGenerator(rescale=1./255)\n",
    "\n",
    "training_set = train_data.flow_from_directory('train/',\n",
    "                                             target_size=(sz, sz),\n",
    "                                             batch_size=10,\n",
    "                                             color_mode='grayscale',\n",
    "                                             class_mode='categorical')\n",
    "testing_set = test_data.flow_from_directory('test/',\n",
    "                                             target_size=(sz, sz),\n",
    "                                             batch_size=10,\n",
    "                                             color_mode='grayscale',\n",
    "                                             class_mode='categorical')\n",
    "\n",
    "model.fit_generator(training_set,\n",
    "                   steps_per_epoch=int(train_step), #no. of images in train set\n",
    "                   epochs=5,\n",
    "                   validation_data=testing_set,\n",
    "                   validation_steps=int(test_step)) # no of images in test set"
   ]
  },
  {
   "cell_type": "code",
   "execution_count": 10,
   "id": "a4d6231f",
   "metadata": {},
   "outputs": [
    {
     "name": "stdout",
     "output_type": "stream",
     "text": [
      "Model Saved\n",
      "Weights saved\n"
     ]
    }
   ],
   "source": [
    "model_json = model.to_json()\n",
    "with open(\"model-bw.json\", \"w\") as json_file:\n",
    "    json_file.write(model_json)\n",
    "print('Model Saved')\n",
    "model.save_weights('model-bw.h5')\n",
    "print('Weights saved')"
   ]
  },
  {
   "cell_type": "code",
   "execution_count": 2,
   "id": "5b9450ce",
   "metadata": {},
   "outputs": [],
   "source": [
    "import os"
   ]
  },
  {
   "cell_type": "code",
   "execution_count": 3,
   "id": "a1718622",
   "metadata": {},
   "outputs": [
    {
     "name": "stdout",
     "output_type": "stream",
     "text": [
      "['.ipynb_checkpoints', 'data_collection.ipynb', 'test', 'train', 'training.ipynb']\n"
     ]
    }
   ],
   "source": [
    "print(os.listdir())"
   ]
  },
  {
   "cell_type": "code",
   "execution_count": 6,
   "id": "35dbbd8c",
   "metadata": {},
   "outputs": [],
   "source": [
    "os.chdir(\"train/\")"
   ]
  },
  {
   "cell_type": "code",
   "execution_count": 8,
   "id": "0f53869c",
   "metadata": {},
   "outputs": [
    {
     "name": "stdout",
     "output_type": "stream",
     "text": [
      "12380\n"
     ]
    }
   ],
   "source": [
    "count = 0\n",
    "for i in os.listdir():\n",
    "    count += len(os.listdir(i+\"/\"))\n",
    "print(count)"
   ]
  },
  {
   "cell_type": "code",
   "execution_count": 3,
   "id": "25b48a87",
   "metadata": {},
   "outputs": [
    {
     "data": {
      "text/plain": [
       "['A',\n",
       " 'B',\n",
       " 'C',\n",
       " 'D',\n",
       " 'E',\n",
       " 'F',\n",
       " 'G',\n",
       " 'H',\n",
       " 'I',\n",
       " 'J',\n",
       " 'K',\n",
       " 'L',\n",
       " 'M',\n",
       " 'N',\n",
       " 'O',\n",
       " 'P',\n",
       " 'Q',\n",
       " 'R',\n",
       " 'S',\n",
       " 'T',\n",
       " 'U',\n",
       " 'V',\n",
       " 'W',\n",
       " 'X',\n",
       " 'Y',\n",
       " 'Z']"
      ]
     },
     "execution_count": 3,
     "metadata": {},
     "output_type": "execute_result"
    }
   ],
   "source": [
    "os.listdir(\"train/\")"
   ]
  },
  {
   "cell_type": "code",
   "execution_count": null,
   "id": "bcec158c",
   "metadata": {},
   "outputs": [],
   "source": [
    "json_file = open(self.directory+\"model-bw.json\", \"r\")\n",
    "model_json = self.json_file.read()\n",
    "json_file.close()\n",
    "loaded_model = model_from_json(self.model_json)\n",
    "loaded_model.load_weights(self.directory+\"model-bw.h5\")"
   ]
  },
  {
   "cell_type": "code",
   "execution_count": 14,
   "id": "f20fcbe6",
   "metadata": {},
   "outputs": [],
   "source": [
    "dru_train_data = ImageDataGenerator(rescale=1./255,\n",
    "                                shear_range=0.2,\n",
    "                                zoom_range=0.2,\n",
    "                                horizontal_flip=True)\n",
    "dru_test_data = ImageDataGenerator(rescale=1./255)"
   ]
  },
  {
   "cell_type": "code",
   "execution_count": 15,
   "id": "74f3adf3",
   "metadata": {},
   "outputs": [
    {
     "name": "stdout",
     "output_type": "stream",
     "text": [
      "Found 1401 images belonging to 3 classes.\n",
      "Found 465 images belonging to 3 classes.\n"
     ]
    }
   ],
   "source": [
    "sz = 128\n",
    "os.environ[\"CUDA_VISIBLE_DEVICES\"] = \"-1\"\n",
    "dru_training_set = dru_train_data.flow_from_directory(\"train/\", \n",
    "                                                    target_size=(sz, sz),\n",
    "                                                    batch_size=10,\n",
    "                                                    classes=[\"D\", \"R\", \"U\"],\n",
    "                                                    color_mode='grayscale',\n",
    "                                                    class_mode='categorical')\n",
    "dru_testing_set = dru_test_data.flow_from_directory(\"test/\", \n",
    "                                                    target_size=(sz, sz),\n",
    "                                                    batch_size=10,\n",
    "                                                    classes=[\"D\", \"R\", \"U\"],\n",
    "                                                    color_mode='grayscale',\n",
    "                                                    class_mode='categorical')"
   ]
  },
  {
   "cell_type": "code",
   "execution_count": 27,
   "id": "b1f22d61",
   "metadata": {},
   "outputs": [],
   "source": [
    "model_dru = Sequential()"
   ]
  },
  {
   "cell_type": "code",
   "execution_count": 28,
   "id": "0970616e",
   "metadata": {},
   "outputs": [],
   "source": [
    "model_dru.add(Conv2D(32, (3,3), input_shape=(sz, sz, 1), activation='relu'))\n",
    "model_dru.add(MaxPooling2D(pool_size=(2,2)))\n",
    "\n",
    "model_dru.add(Conv2D(32, (3,3), activation='relu'))\n",
    "model_dru.add(MaxPooling2D(pool_size=(2,2)))\n",
    "\n",
    "model_dru.add(Flatten())\n",
    "\n",
    "model_dru.add(Dense(128, activation='relu'))\n",
    "model_dru.add(Dropout(0.40))\n",
    "model_dru.add(Dense(96, activation='relu'))\n",
    "model_dru.add(Dropout(0.40))\n",
    "model_dru.add(Dense(64, activation='relu'))\n",
    "model_dru.add(Dense(3, activation='softmax'))"
   ]
  },
  {
   "cell_type": "code",
   "execution_count": 29,
   "id": "bff3e95b",
   "metadata": {},
   "outputs": [],
   "source": [
    "model_dru.compile(optimizer=\"adam\", loss='categorical_crossentropy', metrics=['accuracy'])"
   ]
  },
  {
   "cell_type": "code",
   "execution_count": 30,
   "id": "aeab1312",
   "metadata": {},
   "outputs": [
    {
     "name": "stdout",
     "output_type": "stream",
     "text": [
      "Model: \"sequential_2\"\n",
      "_________________________________________________________________\n",
      "Layer (type)                 Output Shape              Param #   \n",
      "=================================================================\n",
      "conv2d_4 (Conv2D)            (None, 126, 126, 32)      320       \n",
      "_________________________________________________________________\n",
      "max_pooling2d_4 (MaxPooling2 (None, 63, 63, 32)        0         \n",
      "_________________________________________________________________\n",
      "conv2d_5 (Conv2D)            (None, 61, 61, 32)        9248      \n",
      "_________________________________________________________________\n",
      "max_pooling2d_5 (MaxPooling2 (None, 30, 30, 32)        0         \n",
      "_________________________________________________________________\n",
      "flatten_2 (Flatten)          (None, 28800)             0         \n",
      "_________________________________________________________________\n",
      "dense_8 (Dense)              (None, 128)               3686528   \n",
      "_________________________________________________________________\n",
      "dropout_4 (Dropout)          (None, 128)               0         \n",
      "_________________________________________________________________\n",
      "dense_9 (Dense)              (None, 96)                12384     \n",
      "_________________________________________________________________\n",
      "dropout_5 (Dropout)          (None, 96)                0         \n",
      "_________________________________________________________________\n",
      "dense_10 (Dense)             (None, 64)                6208      \n",
      "_________________________________________________________________\n",
      "dense_11 (Dense)             (None, 3)                 195       \n",
      "=================================================================\n",
      "Total params: 3,714,883\n",
      "Trainable params: 3,714,883\n",
      "Non-trainable params: 0\n",
      "_________________________________________________________________\n"
     ]
    }
   ],
   "source": [
    "model_dru.summary()"
   ]
  },
  {
   "cell_type": "code",
   "execution_count": 31,
   "id": "7a2d3cf3",
   "metadata": {
    "scrolled": false
   },
   "outputs": [
    {
     "name": "stdout",
     "output_type": "stream",
     "text": [
      "Epoch 1/5\n",
      "141/141 [==============================] - 31s 220ms/step - loss: 1.0749 - accuracy: 0.4047 - val_loss: 0.5808 - val_accuracy: 0.8839\n",
      "Epoch 2/5\n",
      "141/141 [==============================] - 30s 216ms/step - loss: 0.4219 - accuracy: 0.8315 - val_loss: 0.0560 - val_accuracy: 0.9828\n",
      "Epoch 3/5\n",
      "141/141 [==============================] - 29s 206ms/step - loss: 0.1464 - accuracy: 0.9493 - val_loss: 0.0013 - val_accuracy: 1.0000\n",
      "Epoch 4/5\n",
      "141/141 [==============================] - 29s 207ms/step - loss: 0.0660 - accuracy: 0.9750 - val_loss: 0.0421 - val_accuracy: 0.9828\n",
      "Epoch 5/5\n",
      "141/141 [==============================] - 29s 208ms/step - loss: 0.0587 - accuracy: 0.9786 - val_loss: 0.0041 - val_accuracy: 0.9978\n"
     ]
    },
    {
     "data": {
      "text/plain": [
       "<tensorflow.python.keras.callbacks.History at 0x1ef3203bdd8>"
      ]
     },
     "execution_count": 31,
     "metadata": {},
     "output_type": "execute_result"
    }
   ],
   "source": [
    "model_dru.fit_generator(dru_training_set, \n",
    "                   epochs=5,\n",
    "                   validation_data=dru_testing_set,\n",
    "                       verbose=1)\n"
   ]
  },
  {
   "cell_type": "code",
   "execution_count": 36,
   "id": "be2a1f61",
   "metadata": {},
   "outputs": [
    {
     "name": "stdout",
     "output_type": "stream",
     "text": [
      "Model Saved\n",
      "Weights saved\n"
     ]
    }
   ],
   "source": [
    "model_json = model_dru.to_json()\n",
    "with open(\"model-bw_dru.json\", \"w\") as json_file:\n",
    "    json_file.write(model_json)\n",
    "print('Model Saved')\n",
    "model_dru.save_weights('model-bw_dru.h5')\n",
    "print('Weights saved')"
   ]
  },
  {
   "cell_type": "code",
   "execution_count": 2,
   "id": "24984c61",
   "metadata": {},
   "outputs": [
    {
     "name": "stdout",
     "output_type": "stream",
     "text": [
      "Found 1896 images belonging to 4 classes.\n",
      "Found 631 images belonging to 4 classes.\n"
     ]
    }
   ],
   "source": [
    "tkdi_train_data = ImageDataGenerator(rescale=1./255,\n",
    "                                shear_range=0.2,\n",
    "                                zoom_range=0.2,\n",
    "                                horizontal_flip=True)\n",
    "tkdi_test_data = ImageDataGenerator(rescale=1./255)\n",
    "sz = 128\n",
    "os.environ[\"CUDA_VISIBLE_DEVICES\"] = \"-1\"\n",
    "tkdi_training_set = tkdi_train_data.flow_from_directory(\"train/\", \n",
    "                                                    target_size=(sz, sz),\n",
    "                                                    batch_size=10,\n",
    "                                                    classes=[\"T\", \"K\", \"D\", \"I\"],\n",
    "                                                    color_mode='grayscale',\n",
    "                                                    class_mode='categorical')\n",
    "tkdi_testing_set = tkdi_test_data.flow_from_directory(\"test/\", \n",
    "                                                    target_size=(sz, sz),\n",
    "                                                    batch_size=10,\n",
    "                                                    classes=[\"T\", \"K\", \"D\", \"I\"],\n",
    "                                                    color_mode='grayscale',\n",
    "                                                    class_mode='categorical')"
   ]
  },
  {
   "cell_type": "code",
   "execution_count": 3,
   "id": "34dc7b50",
   "metadata": {},
   "outputs": [
    {
     "name": "stdout",
     "output_type": "stream",
     "text": [
      "Epoch 1/5\n",
      "190/190 [==============================] - 43s 228ms/step - loss: 0.9176 - accuracy: 0.6108 - val_loss: 0.1179 - val_accuracy: 0.9556\n",
      "Epoch 2/5\n",
      "190/190 [==============================] - 42s 222ms/step - loss: 0.2432 - accuracy: 0.9130 - val_loss: 0.0026 - val_accuracy: 1.0000\n",
      "Epoch 3/5\n",
      "190/190 [==============================] - 42s 223ms/step - loss: 0.0962 - accuracy: 0.9684 - val_loss: 1.9390e-04 - val_accuracy: 1.0000\n",
      "Epoch 4/5\n",
      "190/190 [==============================] - 41s 214ms/step - loss: 0.0781 - accuracy: 0.9794 - val_loss: 0.0012 - val_accuracy: 1.0000\n",
      "Epoch 5/5\n",
      "190/190 [==============================] - 41s 215ms/step - loss: 0.0514 - accuracy: 0.9847 - val_loss: 2.3156e-05 - val_accuracy: 1.0000\n",
      "Model Saved\n",
      "Weights saved\n"
     ]
    }
   ],
   "source": [
    "model_tkdi = Sequential()\n",
    "model_tkdi.add(Conv2D(32, (3,3), input_shape=(sz, sz, 1), activation='relu'))\n",
    "model_tkdi.add(MaxPooling2D(pool_size=(2,2)))\n",
    "\n",
    "model_tkdi.add(Conv2D(32, (3,3), activation='relu'))\n",
    "model_tkdi.add(MaxPooling2D(pool_size=(2,2)))\n",
    "\n",
    "model_tkdi.add(Flatten())\n",
    "\n",
    "model_tkdi.add(Dense(128, activation='relu'))\n",
    "model_tkdi.add(Dropout(0.40))\n",
    "model_tkdi.add(Dense(96, activation='relu'))\n",
    "model_tkdi.add(Dropout(0.40))\n",
    "model_tkdi.add(Dense(64, activation='relu'))\n",
    "model_tkdi.add(Dense(4, activation='softmax'))\n",
    "\n",
    "model_tkdi.compile(optimizer=\"adam\", loss='categorical_crossentropy', metrics=['accuracy'])\n",
    "model_tkdi.fit_generator(tkdi_training_set, \n",
    "                   epochs=5,\n",
    "                   validation_data=tkdi_testing_set,\n",
    "                       verbose=1)\n",
    "model_json = model_tkdi.to_json()\n",
    "with open(\"model-bw_tkdi.json\", \"w\") as json_file:\n",
    "    json_file.write(model_json)\n",
    "print('Model Saved')\n",
    "model_tkdi.save_weights('model-bw_tkdi.h5')\n",
    "print('Weights saved')"
   ]
  },
  {
   "cell_type": "code",
   "execution_count": 4,
   "id": "765281fc",
   "metadata": {},
   "outputs": [
    {
     "name": "stdout",
     "output_type": "stream",
     "text": [
      "Found 1450 images belonging to 3 classes.\n",
      "Found 482 images belonging to 3 classes.\n"
     ]
    }
   ],
   "source": [
    "smn_train_data = ImageDataGenerator(rescale=1./255,\n",
    "                                shear_range=0.2,\n",
    "                                zoom_range=0.2,\n",
    "                                horizontal_flip=True)\n",
    "smn_test_data = ImageDataGenerator(rescale=1./255)\n",
    "sz = 128\n",
    "os.environ[\"CUDA_VISIBLE_DEVICES\"] = \"-1\"\n",
    "smn_training_set = smn_train_data.flow_from_directory(\"train/\", \n",
    "                                                    target_size=(sz, sz),\n",
    "                                                    batch_size=10,\n",
    "                                                    classes=[\"S\", \"M\", \"N\"],\n",
    "                                                    color_mode='grayscale',\n",
    "                                                    class_mode='categorical')\n",
    "smn_testing_set = smn_test_data.flow_from_directory(\"test/\", \n",
    "                                                    target_size=(sz, sz),\n",
    "                                                    batch_size=10,\n",
    "                                                    classes=[\"S\", \"M\", \"N\"],\n",
    "                                                    color_mode='grayscale',\n",
    "                                                    class_mode='categorical')"
   ]
  },
  {
   "cell_type": "code",
   "execution_count": 5,
   "id": "f68fd5f0",
   "metadata": {},
   "outputs": [
    {
     "name": "stdout",
     "output_type": "stream",
     "text": [
      "Epoch 1/5\n",
      "145/145 [==============================] - 32s 221ms/step - loss: 1.0521 - accuracy: 0.4448 - val_loss: 0.4038 - val_accuracy: 0.8631\n",
      "Epoch 2/5\n",
      "145/145 [==============================] - 31s 213ms/step - loss: 0.3840 - accuracy: 0.8428 - val_loss: 0.0532 - val_accuracy: 0.9751\n",
      "Epoch 3/5\n",
      "145/145 [==============================] - 31s 214ms/step - loss: 0.1433 - accuracy: 0.9531 - val_loss: 0.0051 - val_accuracy: 0.9979\n",
      "Epoch 4/5\n",
      "145/145 [==============================] - 31s 212ms/step - loss: 0.1016 - accuracy: 0.9628 - val_loss: 0.0033 - val_accuracy: 1.0000\n",
      "Epoch 5/5\n",
      "145/145 [==============================] - 31s 212ms/step - loss: 0.0669 - accuracy: 0.9793 - val_loss: 0.0129 - val_accuracy: 0.9959\n",
      "Model Saved\n",
      "Weights saved\n"
     ]
    }
   ],
   "source": [
    "model_smn = Sequential()\n",
    "model_smn.add(Conv2D(32, (3,3), input_shape=(sz, sz, 1), activation='relu'))\n",
    "model_smn.add(MaxPooling2D(pool_size=(2,2)))\n",
    "\n",
    "model_smn.add(Conv2D(32, (3,3), activation='relu'))\n",
    "model_smn.add(MaxPooling2D(pool_size=(2,2)))\n",
    "\n",
    "model_smn.add(Flatten())\n",
    "\n",
    "model_smn.add(Dense(128, activation='relu'))\n",
    "model_smn.add(Dropout(0.40))\n",
    "model_smn.add(Dense(96, activation='relu'))\n",
    "model_smn.add(Dropout(0.40))\n",
    "model_smn.add(Dense(64, activation='relu'))\n",
    "model_smn.add(Dense(3, activation='softmax'))\n",
    "\n",
    "model_smn.compile(optimizer=\"adam\", loss='categorical_crossentropy', metrics=['accuracy'])\n",
    "model_smn.fit_generator(smn_training_set, \n",
    "                   epochs=5,\n",
    "                   validation_data=smn_testing_set,\n",
    "                       verbose=1)\n",
    "model_json = model_smn.to_json()\n",
    "with open(\"model-bw_smn.json\", \"w\") as json_file:\n",
    "    json_file.write(model_json)\n",
    "print('Model Saved')\n",
    "model_smn.save_weights('model-bw_smn.h5')\n",
    "print('Weights saved')"
   ]
  },
  {
   "cell_type": "code",
   "execution_count": null,
   "id": "9b69a4c0",
   "metadata": {},
   "outputs": [],
   "source": []
  }
 ],
 "metadata": {
  "kernelspec": {
   "display_name": "Python 3",
   "language": "python",
   "name": "python3"
  },
  "language_info": {
   "codemirror_mode": {
    "name": "ipython",
    "version": 3
   },
   "file_extension": ".py",
   "mimetype": "text/x-python",
   "name": "python",
   "nbconvert_exporter": "python",
   "pygments_lexer": "ipython3",
   "version": "3.6.13"
  }
 },
 "nbformat": 4,
 "nbformat_minor": 5
}
